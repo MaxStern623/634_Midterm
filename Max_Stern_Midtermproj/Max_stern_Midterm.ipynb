{
 "cells": [
  {
   "cell_type": "markdown",
   "metadata": {},
   "source": [
    "**<h5>0) Downloading the libraries</h5>**<br>\n",
    "Before using the program you need to download the library pandas using 'pip install pandas' and mlxtend using 'pip install mlxtend'"
   ]
  },
  {
   "cell_type": "markdown",
   "metadata": {},
   "source": [
    "**<h5>1) Selecting a file and creating the data frame</h5>**<br>\n",
    "The program gives the user a list of files to select from and prompts the user to enter the name of one. once the name is entered the program saves the filename and then attempts to open the file. If the file fails to open or isn't found then it prints an error and exits the program. If the file is found then it is formatted appropriately and organized. The file reading and Organization is all done through the pandas library reading the CSV data sheet. The panda reader creates a 10 column data frame, takes each item and puts it into its own column, and creates a row for each transaction."
   ]
  },
  {
   "cell_type": "code",
   "execution_count": 56,
   "metadata": {},
   "outputs": [
    {
     "name": "stdout",
     "output_type": "stream",
     "text": [
      "Amazon\n",
      "Best buy\n",
      "Kmart\n",
      "Target\n",
      "Homegoods\n",
      "          0            1                 2                 3  \\\n",
      "0  Desk Top      Printer       Flash Drive  Microsoft Office   \n",
      "1   Lab Top  Flash Drive  Microsoft Office      Lab Top Case   \n",
      "2   Lab Top      Printer       Flash Drive  Microsoft Office   \n",
      "3   Lab Top      Printer       Flash Drive        Anti-Virus   \n",
      "4   Lab Top  Flash Drive      Lab Top Case        Anti-Virus   \n",
      "\n",
      "                     4             5                    6     7     8     9  \n",
      "0             Speakers    Anti-Virus                 None  None  None  None  \n",
      "1           Anti-Virus          None                 None  None  None  None  \n",
      "2           Anti-Virus  Lab Top Case  External Hard-Drive  None  None  None  \n",
      "3  External Hard-Drive  Lab Top Case                 None  None  None  None  \n",
      "4                 None          None                 None  None  None  None  \n"
     ]
    }
   ],
   "source": [
    "import pandas as pan\n",
    "print(\"Amazon\\nBest buy\\nKmart\\nTarget\\nHomegoods\")\n",
    "File_name = input(\"please enter the name of the database: \")\n",
    "try:\n",
    "    csvFile = pan.read_csv(File_name+'.csv',header=None, delimiter=',', engine='python', names=range(10))\n",
    "except:\n",
    "    print(\"ERROR 404: file not found\")\n",
    "    exit()\n",
    "print(csvFile.head())"
   ]
  },
  {
   "cell_type": "markdown",
   "metadata": {},
   "source": [
    "**<h5>2) Organizing the data frame</h5>**<br>\n",
    "After the transactions are collected from the CSV file and stored into the data frame it is organized using the pandas library. From there each item is put into its own column, if it appears in a transaction its put down as a 1, else its a 0. this happens for all of the items in the datasheet. "
   ]
  },
  {
   "cell_type": "code",
   "execution_count": 57,
   "metadata": {},
   "outputs": [
    {
     "name": "stdout",
     "output_type": "stream",
     "text": [
      "   Anti-Virus  Desk Top  Digital Camera  External Hard-Drive  Flash Drive  \\\n",
      "0           1         1               0                    0            1   \n",
      "1           1         0               0                    0            1   \n",
      "2           1         0               0                    1            1   \n",
      "3           1         0               0                    1            1   \n",
      "4           1         0               0                    0            1   \n",
      "\n",
      "   Lab Top  Lab Top Case  Microsoft Office  Printer  Speakers  \n",
      "0        0             0                 1        1         1  \n",
      "1        1             1                 1        0         0  \n",
      "2        1             1                 1        1         0  \n",
      "3        1             1                 0        1         0  \n",
      "4        1             1                 0        0         0  \n"
     ]
    }
   ],
   "source": [
    "matrix = \\\n",
    "    pan.get_dummies(csvFile.unstack().dropna()).groupby(level=1).sum()\n",
    "transactions_count,Item_count =matrix.shape\n",
    "print(matrix.head())"
   ]
  },
  {
   "cell_type": "markdown",
   "metadata": {},
   "source": [
    "**<h5>3) Setting the support and confidence</h5>**<br>\n",
    "The user is asked to input the support and confidence using a number between 1 and 100. The number is then turned into a percentage and later used to filter out numbers that are below the given percentage."
   ]
  },
  {
   "cell_type": "code",
   "execution_count": 58,
   "metadata": {},
   "outputs": [],
   "source": [
    "support = input(\"please enter the minimum support between 1 and 100: \")\n",
    "conf = input(\"please enter the confidence as a number between 1 and 100: \")"
   ]
  },
  {
   "cell_type": "markdown",
   "metadata": {},
   "source": [
    "**<h5>4) Brute force</h5>**<br>\n",
    "To start off, the program starts a timer to see how long it takes to run the program. From there it iterates through every item in the item list and then iterates through every combination of items. Each item is converted to a string and then each combination is saved to a list along with the support for each item set. Next the program iterates through each item and calculates the confidence for the association rules. If there are more than one item in the item set it takes the current item that is being used in the association rule and removed them from the list and adds it to the beginning with an arrow. finally the item is appended to a list with the support and confidence for each item set"
   ]
  },
  {
   "cell_type": "code",
   "execution_count": 59,
   "metadata": {},
   "outputs": [
    {
     "name": "stdout",
     "output_type": "stream",
     "text": [
      "_____________________________\n",
      "['Anti-Virus', np.float64(0.7), np.float64(1.0)]\n",
      "['Anti-Virus', np.float64(0.7)]\n",
      "_____________________________\n",
      "['Desk Top', np.float64(0.3), np.float64(1.0)]\n",
      "['Desk Top', np.float64(0.3)]\n",
      "_____________________________\n",
      "['Digital Camera', np.float64(0.45), np.float64(1.0)]\n",
      "['Digital Camera', np.float64(0.45)]\n",
      "_____________________________\n",
      "['External Hard-Drive', np.float64(0.45), np.float64(1.0)]\n",
      "['External Hard-Drive', np.float64(0.45)]\n",
      "_____________________________\n",
      "['Flash Drive', np.float64(0.65), np.float64(1.0)]\n",
      "['Flash Drive', np.float64(0.65)]\n",
      "_____________________________\n",
      "['Lab Top', np.float64(0.6), np.float64(1.0)]\n",
      "['Lab Top', np.float64(0.6)]\n",
      "_____________________________\n",
      "['Lab Top Case', np.float64(0.7), np.float64(1.0)]\n",
      "['Lab Top Case', np.float64(0.7)]\n",
      "_____________________________\n",
      "['Microsoft Office', np.float64(0.55), np.float64(1.0)]\n",
      "['Microsoft Office', np.float64(0.55)]\n",
      "_____________________________\n",
      "['Printer', np.float64(0.5), np.float64(1.0)]\n",
      "['Printer', np.float64(0.5)]\n",
      "_____________________________\n",
      "['Speakers', np.float64(0.55), np.float64(1.0)]\n",
      "['Speakers', np.float64(0.55)]\n",
      "_____________________________\n",
      "['Anti-Virus =>, Desk Top', np.float64(0.2), np.float64(0.2857142857142857)]\n",
      "['Anti-Virus, Desk Top', np.float64(0.2)]\n",
      "_____________________________\n",
      "['Desk Top =>, Anti-Virus', np.float64(0.2), np.float64(0.6666666666666666)]\n",
      "['Anti-Virus, Digital Camera', np.float64(0.25)]\n",
      "_____________________________\n",
      "['Anti-Virus =>, Digital Camera', np.float64(0.25), np.float64(0.35714285714285715)]\n",
      "['Anti-Virus, External Hard-Drive', np.float64(0.45)]\n"
     ]
    }
   ],
   "source": [
    "from itertools import combinations\n",
    "import time\n",
    "start_time = time.time()\n",
    "largeItemsets = []\n",
    "patterns = []\n",
    "for items in range(1, Item_count+1):\n",
    "    for itemset in combinations(matrix, items):\n",
    "        I_support = (matrix[list(itemset)].all(axis=1).sum())\n",
    "        sup = (matrix[list(itemset)].all(axis=1).sum())/20\n",
    "        s = [str(x) for x in itemset]\n",
    "        patterns.append([\", \".join(s), sup])\n",
    "        for item in s:\n",
    "            item_con = matrix[item].value_counts()[1]\n",
    "            confidence = (I_support / item_con)\n",
    "            temp = s.copy()\n",
    "            if(len(s) > 1):\n",
    "                temp.remove(item)\n",
    "                temp.insert(0,item+\" =>\")\n",
    "            largeItemsets.append([\", \".join(temp), sup, confidence])\n",
    "for i in range (0,13):\n",
    "    print(\"_____________________________\")\n",
    "    print (largeItemsets[i])\n",
    "    print (patterns[i])\n",
    "\n"
   ]
  },
  {
   "cell_type": "markdown",
   "metadata": {},
   "source": [
    "**<h5>5) Brute force</h5>**<br>\n",
    "The program creates a data frame for each frequent item as well as the support using the list for frequent items generated earlier. Afterwards another data frame is created with a column for the item set, the support, and the confidence. using the other list of association rules that were generated. The items in the data frame is then compared the the input support and confidence with the results being saved to a variable. the frequent items data frame is then compared the the user support and saved to another variable."
   ]
  },
  {
   "cell_type": "code",
   "execution_count": 60,
   "metadata": {},
   "outputs": [],
   "source": [
    "freqPat = pan.DataFrame(patterns, columns=[\"Itemset\", \"Support\"])\n",
    "freqItemset = pan.DataFrame(largeItemsets, columns=[\"Itemset\", \"Support\", \"Confidence\"])\n",
    "sresults = freqItemset[(freqItemset.Support >= (int(support)/100)) & (freqItemset.Confidence >= (int(conf)/100))]\n",
    "patresults = freqPat[(freqPat.Support >= (int(support)/100))]"
   ]
  },
  {
   "cell_type": "markdown",
   "metadata": {},
   "source": [
    "**<h5>4) Printing</h5>**<br>\n",
    "Both of the frequent items and the association rules  data frames are printed out after being converted to a string. The execution time is then printed out at the end."
   ]
  },
  {
   "cell_type": "code",
   "execution_count": 61,
   "metadata": {},
   "outputs": [
    {
     "name": "stdout",
     "output_type": "stream",
     "text": [
      "------------------Frequent items------------------\n",
      "                          Itemset  Support\n",
      "0                      Anti-Virus     0.70\n",
      "4                     Flash Drive     0.65\n",
      "5                         Lab Top     0.60\n",
      "6                    Lab Top Case     0.70\n",
      "7                Microsoft Office     0.55\n",
      "8                         Printer     0.50\n",
      "9                        Speakers     0.55\n",
      "13        Anti-Virus, Flash Drive     0.50\n",
      "14            Anti-Virus, Lab Top     0.50\n",
      "15       Anti-Virus, Lab Top Case     0.60\n",
      "42  Flash Drive, Microsoft Office     0.55\n",
      "43           Flash Drive, Printer     0.50\n",
      "45          Lab Top, Lab Top Case     0.50\n",
      "---------------Association Rules---------------------\n",
      "                             Itemset  Support  Confidence\n",
      "0                         Anti-Virus     0.70    1.000000\n",
      "4                        Flash Drive     0.65    1.000000\n",
      "5                            Lab Top     0.60    1.000000\n",
      "6                       Lab Top Case     0.70    1.000000\n",
      "7                   Microsoft Office     0.55    1.000000\n",
      "8                            Printer     0.50    1.000000\n",
      "9                           Speakers     0.55    1.000000\n",
      "16        Anti-Virus =>, Flash Drive     0.50    0.714286\n",
      "17        Flash Drive =>, Anti-Virus     0.50    0.769231\n",
      "18            Anti-Virus =>, Lab Top     0.50    0.714286\n",
      "19            Lab Top =>, Anti-Virus     0.50    0.833333\n",
      "20       Anti-Virus =>, Lab Top Case     0.60    0.857143\n",
      "21       Lab Top Case =>, Anti-Virus     0.60    0.857143\n",
      "74  Flash Drive =>, Microsoft Office     0.55    0.846154\n",
      "75  Microsoft Office =>, Flash Drive     0.55    1.000000\n",
      "76           Flash Drive =>, Printer     0.50    0.769231\n",
      "77           Printer =>, Flash Drive     0.50    1.000000\n",
      "80          Lab Top =>, Lab Top Case     0.50    0.833333\n",
      "81          Lab Top Case =>, Lab Top     0.50    0.714286\n",
      "--- 1.452843189239502 seconds ---\n"
     ]
    }
   ],
   "source": [
    "print(\"------------------Frequent items------------------\")\n",
    "print(patresults.to_string())\n",
    "print(\"---------------Association Rules---------------------\")\n",
    "print(sresults.to_string())\n",
    "print(\"--- %s seconds ---\" % (time.time() - start_time))"
   ]
  },
  {
   "cell_type": "markdown",
   "metadata": {},
   "source": [
    "**<h5>5) Comparison</h5>**<br>\n",
    "the results of the Brute force Apriori program is then compared to the results of apriori library and the fpgrowth library. The time for them is then printed out as well."
   ]
  },
  {
   "cell_type": "code",
   "execution_count": 62,
   "metadata": {},
   "outputs": [
    {
     "name": "stdout",
     "output_type": "stream",
     "text": [
      "           antecedents         consequents  support  confidence\n",
      "4       (Lab Top Case)        (Anti-Virus)     0.60    0.857143\n",
      "5         (Anti-Virus)      (Lab Top Case)     0.60    0.857143\n",
      "7   (Microsoft Office)       (Flash Drive)     0.55    1.000000\n",
      "6        (Flash Drive)  (Microsoft Office)     0.55    0.846154\n",
      "8            (Printer)       (Flash Drive)     0.50    1.000000\n",
      "2            (Lab Top)        (Anti-Virus)     0.50    0.833333\n",
      "11           (Lab Top)      (Lab Top Case)     0.50    0.833333\n",
      "0        (Flash Drive)        (Anti-Virus)     0.50    0.769231\n",
      "9        (Flash Drive)           (Printer)     0.50    0.769231\n",
      "1         (Anti-Virus)       (Flash Drive)     0.50    0.714286\n",
      "3         (Anti-Virus)           (Lab Top)     0.50    0.714286\n",
      "10      (Lab Top Case)           (Lab Top)     0.50    0.714286\n",
      "--- Apriori: 0.009776592254638672 seconds ---\n",
      "           antecedents         consequents  support  confidence\n",
      "0       (Lab Top Case)        (Anti-Virus)     0.60    0.857143\n",
      "1         (Anti-Virus)      (Lab Top Case)     0.60    0.857143\n",
      "5   (Microsoft Office)       (Flash Drive)     0.55    1.000000\n",
      "4        (Flash Drive)  (Microsoft Office)     0.55    0.846154\n",
      "6            (Printer)       (Flash Drive)     0.50    1.000000\n",
      "8            (Lab Top)        (Anti-Virus)     0.50    0.833333\n",
      "11           (Lab Top)      (Lab Top Case)     0.50    0.833333\n",
      "2        (Flash Drive)        (Anti-Virus)     0.50    0.769231\n",
      "7        (Flash Drive)           (Printer)     0.50    0.769231\n",
      "3         (Anti-Virus)       (Flash Drive)     0.50    0.714286\n",
      "9         (Anti-Virus)           (Lab Top)     0.50    0.714286\n",
      "10      (Lab Top Case)           (Lab Top)     0.50    0.714286\n",
      "--- FPgrowth: 0.0070383548736572266 seconds ---\n"
     ]
    },
    {
     "name": "stderr",
     "output_type": "stream",
     "text": [
      "C:\\Users\\knock\\AppData\\Local\\Packages\\PythonSoftwareFoundation.Python.3.11_qbz5n2kfra8p0\\LocalCache\\local-packages\\Python311\\site-packages\\mlxtend\\frequent_patterns\\fpcommon.py:109: DeprecationWarning: DataFrames with non-bool types result in worse computationalperformance and their support might be discontinued in the future.Please use a DataFrame with bool type\n",
      "  warnings.warn(\n",
      "C:\\Users\\knock\\AppData\\Local\\Packages\\PythonSoftwareFoundation.Python.3.11_qbz5n2kfra8p0\\LocalCache\\local-packages\\Python311\\site-packages\\mlxtend\\frequent_patterns\\fpcommon.py:109: DeprecationWarning: DataFrames with non-bool types result in worse computationalperformance and their support might be discontinued in the future.Please use a DataFrame with bool type\n",
      "  warnings.warn(\n"
     ]
    }
   ],
   "source": [
    "from mlxtend.frequent_patterns import apriori, association_rules \n",
    "Apriori_time = time.time()\n",
    "frq_items = apriori(matrix, min_support = (int(support)/100),use_colnames = True) \n",
    "rules = association_rules(frq_items, metric =\"confidence\", min_threshold = (int(conf)/100))\n",
    "rules = rules.sort_values(['support','confidence'], ascending =[False, False])\n",
    "print(rules[['antecedents','consequents','support','confidence']].to_string())\n",
    "print(\"--- Apriori: %s seconds ---\" % (time.time() - Apriori_time))\n",
    "\n",
    "from mlxtend.frequent_patterns import fpgrowth\n",
    "Fpgrowth_time = time.time()\n",
    "test= fpgrowth(matrix, min_support=(int(support)/100), use_colnames=True)\n",
    "rules = association_rules(test, metric =\"confidence\", min_threshold = (int(conf)/100))\n",
    "rules = rules.sort_values(['support','confidence'], ascending =[False, False])\n",
    "print(rules[['antecedents','consequents','support','confidence']].to_string())\n",
    "print(\"--- FPgrowth: %s seconds ---\" % (time.time() - Fpgrowth_time))"
   ]
  }
 ],
 "metadata": {
  "kernelspec": {
   "display_name": "Python 3",
   "language": "python",
   "name": "python3"
  },
  "language_info": {
   "codemirror_mode": {
    "name": "ipython",
    "version": 3
   },
   "file_extension": ".py",
   "mimetype": "text/x-python",
   "name": "python",
   "nbconvert_exporter": "python",
   "pygments_lexer": "ipython3",
   "version": "3.11.9"
  }
 },
 "nbformat": 4,
 "nbformat_minor": 2
}
